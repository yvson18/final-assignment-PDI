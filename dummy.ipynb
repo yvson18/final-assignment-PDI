{
 "cells": [
  {
   "cell_type": "code",
   "execution_count": 3,
   "metadata": {},
   "outputs": [],
   "source": [
    "import os\n",
    "import pandas as pd\n",
    "from sklearn.model_selection import train_test_split\n",
    "from PIL import Image"
   ]
  },
  {
   "cell_type": "code",
   "execution_count": 1,
   "metadata": {},
   "outputs": [],
   "source": [
    "def create_csv_and_split(dogs_folder, cats_folder):\n",
    "    # Adquirir todos os caminhos dos arquivos\n",
    "    dogs_files = [dogs_folder + '/' + f for f in os.listdir(dogs_folder) if os.path.isfile(os.path.join(dogs_folder, f))]\n",
    "    cats_files = [cats_folder + '/' + f for f in os.listdir(cats_folder) if os.path.isfile(os.path.join(cats_folder, f))]\n",
    "\n",
    "    # Criar dataframes para cada animal\n",
    "    df_dogs = pd.DataFrame({'path': dogs_files, 'label': [1]*len(dogs_files)}) # 1 para cachorro\n",
    "    df_cats = pd.DataFrame({'path': cats_files, 'label': [0]*len(cats_files)}) # 0 para gato\n",
    "\n",
    "    # Unir os dataframes\n",
    "    df = pd.concat([df_dogs, df_cats])\n",
    "\n",
    "    # Reordenar e resetar o index\n",
    "    df = df.sample(frac=1).reset_index(drop=True)\n",
    "\n",
    "    # Dividir no conjunto de treino (80%) e um conjunto temporário (20%)\n",
    "    train, tmp = train_test_split(df, test_size=0.2, random_state=42, stratify=df['label'])\n",
    "\n",
    "    # Dividir o conjunto temporário igualmente entre teste e validação (cada um com 10% do total)\n",
    "    valid, test = train_test_split(tmp, test_size=0.5, random_state=42, stratify=tmp['label'])\n",
    "\n",
    "    # Salvar como CSVs\n",
    "    train.to_csv('train.csv')\n",
    "    valid.to_csv('valid.csv')\n",
    "    test.to_csv('test.csv')"
   ]
  },
  {
   "cell_type": "code",
   "execution_count": 4,
   "metadata": {},
   "outputs": [],
   "source": [
    "def redimensionar_imagens(caminho_diretorio, largura=256, altura=256):\n",
    "    \"\"\"\n",
    "    Esta função redimensiona todas as imagens em um diretório específico para um tamanho dado.\n",
    "    \n",
    "    Parâmetros:\n",
    "    caminho_diretorio (str): O caminho do diretório contendo as imagens.\n",
    "    largura (int): A largura desejada das imagens.\n",
    "    altura (int): A altura desejada das imagens.\n",
    "    \"\"\"\n",
    "    def redimensionar_imagem(caminho_imagem):\n",
    "        img = Image.open(caminho_imagem)\n",
    "        img = img.resize((largura, altura))\n",
    "        img.save(caminho_imagem)\n",
    "\n",
    "    for nome_arquivo in os.listdir(caminho_diretorio):\n",
    "        if nome_arquivo.endswith(\".jpg\") or nome_arquivo.endswith(\".png\"):\n",
    "            redimensionar_imagem(os.path.join(caminho_diretorio, nome_arquivo))"
   ]
  },
  {
   "cell_type": "code",
   "execution_count": 5,
   "metadata": {},
   "outputs": [],
   "source": [
    "redimensionar_imagens(\"data/cats\")\n",
    "redimensionar_imagens(\"data/dogs\")"
   ]
  },
  {
   "cell_type": "code",
   "execution_count": null,
   "metadata": {},
   "outputs": [],
   "source": [
    "create_csv_and_split(\"data/dogs\", \"data/cats\")\n"
   ]
  }
 ],
 "metadata": {
  "kernelspec": {
   "display_name": "venv",
   "language": "python",
   "name": "python3"
  },
  "language_info": {
   "codemirror_mode": {
    "name": "ipython",
    "version": 3
   },
   "file_extension": ".py",
   "mimetype": "text/x-python",
   "name": "python",
   "nbconvert_exporter": "python",
   "pygments_lexer": "ipython3",
   "version": "3.8.6"
  },
  "orig_nbformat": 4
 },
 "nbformat": 4,
 "nbformat_minor": 2
}
