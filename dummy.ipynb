{
 "cells": [
  {
   "cell_type": "code",
   "execution_count": 1,
   "metadata": {},
   "outputs": [],
   "source": [
    "import os\n",
    "import pandas as pd\n",
    "from sklearn.model_selection import train_test_split\n",
    "from PIL import Image"
   ]
  },
  {
   "cell_type": "code",
   "execution_count": 2,
   "metadata": {},
   "outputs": [],
   "source": [
    "data_path = \"data\"\n",
    "classes = [d for d in os.listdir(data_path) if os.path.isdir(os.path.join(data_path, d))]"
   ]
  },
  {
   "cell_type": "code",
   "execution_count": 5,
   "metadata": {},
   "outputs": [],
   "source": [
    "# redimensionar imagens substituindo as originais e transformando em png\n",
    "def redimensionar_imagens(path, size):\n",
    "    for class_name in classes:\n",
    "        class_path = os.path.join(path, class_name)\n",
    "        for image in os.listdir(class_path):\n",
    "            image_path = os.path.join(class_path, image)\n",
    "            img = Image.open(image_path)\n",
    "            img = img.resize(size)\n",
    "            img.save(image_path.replace(\".jpg\", \".png\"))\n",
    "\n",
    "def criar_csvs(data_path, proporcao=(0.8, 0.1, 0.1)):\n",
    "    classes = [d for d in os.listdir(data_path) if os.path.isdir(os.path.join(data_path, d))]\n",
    "\n",
    "    # Crie um DataFrame Pandas para todas as amostras\n",
    "    data = []\n",
    "\n",
    "    for label, class_name in enumerate(classes):\n",
    "        class_path = os.path.join(data_path, class_name)\n",
    "        for image in os.listdir(class_path):\n",
    "            data.append([\"data/\" + os.path.join(class_name, image), label])\n",
    "\n",
    "    df = pd.DataFrame(data, columns=[\"path\", \"label\"])\n",
    "\n",
    "    # Divida o DataFrame em treino, teste e validação mantendo as classes balanceadas\n",
    "    train_df, test_val_df = train_test_split(df, test_size=proporcao[1] + proporcao[2], stratify=df[\"label\"])\n",
    "    test_df, val_df = train_test_split(test_val_df, test_size=proporcao[2] / (proporcao[1] + proporcao[2]), stratify=test_val_df[\"label\"])\n",
    "\n",
    "    # Salve os DataFrames como arquivos CSV\n",
    "    train_df.to_csv(\"data/train.csv\", index=False)\n",
    "    test_df.to_csv(\"data/test.csv\", index=False)\n",
    "    val_df.to_csv(\"data/valid.csv\", index=False)"
   ]
  },
  {
   "cell_type": "code",
   "execution_count": null,
   "metadata": {},
   "outputs": [],
   "source": [
    "def remove_non_png_images(dataset_dir):\n",
    "    \"\"\"\n",
    "    Remove imagens que não são arquivos PNG em um conjunto de dados organizado em pastas de classe.\n",
    "\n",
    "    Args:\n",
    "    - dataset_dir (str): O caminho para o diretório raiz do conjunto de dados.\n",
    "\n",
    "    Returns:\n",
    "    - None\n",
    "    \"\"\"\n",
    "    for class_folder in os.listdir(dataset_dir):\n",
    "        class_folder_path = os.path.join(dataset_dir, class_folder)\n",
    "\n",
    "        if os.path.isdir(class_folder_path):\n",
    "            for filename in os.listdir(class_folder_path):\n",
    "                file_path = os.path.join(class_folder_path, filename)\n",
    "\n",
    "                if not filename.endswith(\".png\"):\n",
    "                    os.remove(file_path)\n",
    "                    print(f\"Arquivo removido: {file_path}\")\n",
    "\n",
    "# Exemplo de uso\n",
    "dataset_dir = \"./data\"\n",
    "remove_non_png_images(dataset_dir)"
   ]
  },
  {
   "cell_type": "code",
   "execution_count": 7,
   "metadata": {},
   "outputs": [],
   "source": [
    "data_path = \"data\"  # Substitua pelo caminho real para seus dados\n",
    "# redimensionar_imagens(data_path, (1360, 1360))\n",
    "criar_csvs(data_path)"
   ]
  },
  {
   "cell_type": "code",
   "execution_count": null,
   "metadata": {},
   "outputs": [],
   "source": [
    "from PIL import Image\n",
    "import os\n",
    "\n",
    "def check_and_remove_invalid_images(root_dataset_dir):\n",
    "    \"\"\"\n",
    "    Check if images can be loaded and remove invalid images from a dataset.\n",
    "\n",
    "    Args:\n",
    "    - root_dataset_dir (str): The root directory of the dataset.\n",
    "\n",
    "    Returns:\n",
    "    - None\n",
    "    \"\"\"\n",
    "    for class_folder in os.listdir(root_dataset_dir):\n",
    "        class_folder_path = os.path.join(root_dataset_dir, class_folder)\n",
    "\n",
    "        if os.path.isdir(class_folder_path):\n",
    "            for filename in os.listdir(class_folder_path):\n",
    "                file_path = os.path.join(class_folder_path, filename)\n",
    "\n",
    "                if filename.endswith((\".png\", \".jpg\", \".jpeg\", \".bmp\")):\n",
    "                    try:\n",
    "                        img = Image.open(file_path)\n",
    "                        img.verify()\n",
    "                    except (IOError, SyntaxError):\n",
    "                        # If PIL couldn't open the image, it's invalid.\n",
    "                        os.remove(file_path)\n",
    "                        print(f\"Invalid image removed: {file_path}\")\n",
    "\n",
    "# Example usage\n",
    "root_dataset_dir = \"./data\"\n",
    "check_and_remove_invalid_images(root_dataset_dir)\n"
   ]
  },
  {
   "cell_type": "code",
   "execution_count": 8,
   "metadata": {},
   "outputs": [],
   "source": [
    "train = pd.read_csv(\"data/train.csv\")"
   ]
  },
  {
   "cell_type": "code",
   "execution_count": 11,
   "metadata": {},
   "outputs": [
    {
     "data": {
      "text/html": [
       "<div>\n",
       "<style scoped>\n",
       "    .dataframe tbody tr th:only-of-type {\n",
       "        vertical-align: middle;\n",
       "    }\n",
       "\n",
       "    .dataframe tbody tr th {\n",
       "        vertical-align: top;\n",
       "    }\n",
       "\n",
       "    .dataframe thead th {\n",
       "        text-align: right;\n",
       "    }\n",
       "</style>\n",
       "<table border=\"1\" class=\"dataframe\">\n",
       "  <thead>\n",
       "    <tr style=\"text-align: right;\">\n",
       "      <th></th>\n",
       "      <th>path</th>\n",
       "      <th>label</th>\n",
       "    </tr>\n",
       "  </thead>\n",
       "  <tbody>\n",
       "    <tr>\n",
       "      <th>0</th>\n",
       "      <td>data/non-accessory/FRGC_04324d129.jpg</td>\n",
       "      <td>1</td>\n",
       "    </tr>\n",
       "    <tr>\n",
       "      <th>1</th>\n",
       "      <td>data/non-accessory/FRGC_04219d157.jpg</td>\n",
       "      <td>1</td>\n",
       "    </tr>\n",
       "    <tr>\n",
       "      <th>2</th>\n",
       "      <td>data/non-accessory/FRGC_04219d128_px_6.png</td>\n",
       "      <td>1</td>\n",
       "    </tr>\n",
       "    <tr>\n",
       "      <th>3</th>\n",
       "      <td>data/non-accessory/FRGC_04288d81.jpg</td>\n",
       "      <td>1</td>\n",
       "    </tr>\n",
       "    <tr>\n",
       "      <th>4</th>\n",
       "      <td>data/non-accessory/AR_FDB_w-004-16_px_6.png</td>\n",
       "      <td>1</td>\n",
       "    </tr>\n",
       "    <tr>\n",
       "      <th>...</th>\n",
       "      <td>...</td>\n",
       "      <td>...</td>\n",
       "    </tr>\n",
       "    <tr>\n",
       "      <th>2579</th>\n",
       "      <td>data/accessory/AR_m-047-8.png</td>\n",
       "      <td>0</td>\n",
       "    </tr>\n",
       "    <tr>\n",
       "      <th>2580</th>\n",
       "      <td>data/accessory/AR_FDB_m-045-22.png</td>\n",
       "      <td>0</td>\n",
       "    </tr>\n",
       "    <tr>\n",
       "      <th>2581</th>\n",
       "      <td>data/non-accessory/Fall2002_04424d59.JPG</td>\n",
       "      <td>1</td>\n",
       "    </tr>\n",
       "    <tr>\n",
       "      <th>2582</th>\n",
       "      <td>data/non-accessory/FRGC_04842d82.jpg</td>\n",
       "      <td>1</td>\n",
       "    </tr>\n",
       "    <tr>\n",
       "      <th>2583</th>\n",
       "      <td>data/accessory/AR_w-019-12.png</td>\n",
       "      <td>0</td>\n",
       "    </tr>\n",
       "  </tbody>\n",
       "</table>\n",
       "<p>2584 rows × 2 columns</p>\n",
       "</div>"
      ],
      "text/plain": [
       "                                             path  label\n",
       "0           data/non-accessory/FRGC_04324d129.jpg      1\n",
       "1           data/non-accessory/FRGC_04219d157.jpg      1\n",
       "2      data/non-accessory/FRGC_04219d128_px_6.png      1\n",
       "3            data/non-accessory/FRGC_04288d81.jpg      1\n",
       "4     data/non-accessory/AR_FDB_w-004-16_px_6.png      1\n",
       "...                                           ...    ...\n",
       "2579                data/accessory/AR_m-047-8.png      0\n",
       "2580           data/accessory/AR_FDB_m-045-22.png      0\n",
       "2581     data/non-accessory/Fall2002_04424d59.JPG      1\n",
       "2582         data/non-accessory/FRGC_04842d82.jpg      1\n",
       "2583               data/accessory/AR_w-019-12.png      0\n",
       "\n",
       "[2584 rows x 2 columns]"
      ]
     },
     "execution_count": 11,
     "metadata": {},
     "output_type": "execute_result"
    }
   ],
   "source": [
    "train"
   ]
  },
  {
   "cell_type": "code",
   "execution_count": 17,
   "metadata": {},
   "outputs": [
    {
     "data": {
      "text/plain": [
       "<Axes: xlabel='label'>"
      ]
     },
     "execution_count": 17,
     "metadata": {},
     "output_type": "execute_result"
    },
    {
     "data": {
      "image/png": "[encoded data removed]",
      "text/plain": [
       "<Figure size 640x480 with 1 Axes>"
      ]
     },
     "metadata": {},
     "output_type": "display_data"
    }
   ],
   "source": [
    "pd.read_csv(\"data/valid.csv\")[\"label\"].value_counts().plot(kind=\"bar\")"
   ]
  },
  {
   "cell_type": "code",
   "execution_count": 18,
   "metadata": {},
   "outputs": [
    {
     "data": {
      "text/plain": [
       "<Axes: xlabel='label'>"
      ]
     },
     "execution_count": 18,
     "metadata": {},
     "output_type": "execute_result"
    },
    {
     "data": {
      "image/png": "[encoded data removed]",
      "text/plain": [
       "<Figure size 640x480 with 1 Axes>"
      ]
     },
     "metadata": {},
     "output_type": "display_data"
    }
   ],
   "source": [
    "pd.read_csv(\"validacao.csv\")[\"label\"].value_counts().plot(kind=\"bar\")"
   ]
  },
  {
   "cell_type": "code",
   "execution_count": 15,
   "metadata": {},
   "outputs": [
    {
     "name": "stdout",
     "output_type": "stream",
     "text": [
      "Perda de Entropia Cruzada: 2.2920236587524414\n"
     ]
    }
   ],
   "source": [
    "import torch\n",
    "import torch.nn as nn\n",
    "\n",
    "# Suponha que você tenha os tensores de logits e rótulos\n",
    "logits = torch.tensor([[0.5080, 0.5018, 0.4857, 0.4907, 0.5006, 0.5141, 0.4974, 0.5144, 0.5163, 0.5089]], device='cuda:0')\n",
    "labels = torch.tensor([7], device='cuda:0')\n",
    "\n",
    "# Crie uma instância da função de perda CrossEntropyLoss\n",
    "criterion = nn.CrossEntropyLoss()\n",
    "\n",
    "# Calcule a perda\n",
    "loss = criterion(logits, labels)\n",
    "\n",
    "# Imprima a perda\n",
    "print(\"Perda de Entropia Cruzada:\", loss.item())\n"
   ]
  },
  {
   "cell_type": "code",
   "execution_count": 16,
   "metadata": {},
   "outputs": [],
   "source": [
    "loss = nn.CrossEntropyLoss()\n",
    "input = torch.randn(3, 5, requires_grad=True)\n",
    "target = torch.empty(3, dtype=torch.long).random_(5)\n",
    "output = loss(input, target)"
   ]
  },
  {
   "cell_type": "code",
   "execution_count": 20,
   "metadata": {},
   "outputs": [
    {
     "data": {
      "text/plain": [
       "tensor([[ 2.4985, -1.0577,  0.6123,  0.5745,  1.0244],\n",
       "        [-0.5012, -0.3175, -0.3718, -0.3878,  0.8063],\n",
       "        [-1.8537,  0.8074,  0.8869,  0.9744,  0.3492]], requires_grad=True)"
      ]
     },
     "execution_count": 20,
     "metadata": {},
     "output_type": "execute_result"
    }
   ],
   "source": [
    "input"
   ]
  },
  {
   "cell_type": "code",
   "execution_count": 36,
   "metadata": {},
   "outputs": [
    {
     "data": {
      "text/plain": [
       "tensor([ 20,  49, 112,  88,  34,  58,   9,  66,  89,  89])"
      ]
     },
     "execution_count": 36,
     "metadata": {},
     "output_type": "execute_result"
    }
   ],
   "source": [
    "target"
   ]
  },
  {
   "cell_type": "code",
   "execution_count": 39,
   "metadata": {},
   "outputs": [
    {
     "data": {
      "text/plain": [
       "tensor([0])"
      ]
     },
     "execution_count": 39,
     "metadata": {},
     "output_type": "execute_result"
    }
   ],
   "source": [
    "labels=  torch.tensor([[0]])\n",
    "labels.squeeze(0)"
   ]
  },
  {
   "cell_type": "code",
   "execution_count": null,
   "metadata": {},
   "outputs": [],
   "source": []
  },
  {
   "cell_type": "code",
   "execution_count": 21,
   "metadata": {},
   "outputs": [
    {
     "data": {
      "text/plain": [
       "tensor(1.2131)"
      ]
     },
     "execution_count": 21,
     "metadata": {},
     "output_type": "execute_result"
    }
   ],
   "source": [
    "import torch\n",
    "\n",
    "criterion = torch.nn.CrossEntropyLoss()\n",
    "criterion(torch.tensor([0.45, 0.22, 0.32]).unsqueeze(1).unsqueeze(0), torch.tensor([1]).unsqueeze(0).long())\n",
    "#tensor(1.2131)"
   ]
  },
  {
   "cell_type": "code",
   "execution_count": 22,
   "metadata": {},
   "outputs": [
    {
     "data": {
      "text/plain": [
       "tensor([[[0.4500],\n",
       "         [0.2200],\n",
       "         [0.3200]]])"
      ]
     },
     "execution_count": 22,
     "metadata": {},
     "output_type": "execute_result"
    }
   ],
   "source": [
    "torch.tensor([0.45, 0.22, 0.32]).unsqueeze(1).unsqueeze(0)"
   ]
  },
  {
   "cell_type": "code",
   "execution_count": 23,
   "metadata": {},
   "outputs": [
    {
     "data": {
      "text/plain": [
       "tensor([[1]])"
      ]
     },
     "execution_count": 23,
     "metadata": {},
     "output_type": "execute_result"
    }
   ],
   "source": [
    "torch.tensor([1]).unsqueeze(0).long()"
   ]
  },
  {
   "cell_type": "code",
   "execution_count": 24,
   "metadata": {},
   "outputs": [
    {
     "data": {
      "text/plain": [
       "tensor([0.4500, 0.2200, 0.3200])"
      ]
     },
     "execution_count": 24,
     "metadata": {},
     "output_type": "execute_result"
    }
   ],
   "source": [
    "torch.tensor([0.45, 0.22, 0.32])"
   ]
  },
  {
   "cell_type": "code",
   "execution_count": 25,
   "metadata": {},
   "outputs": [],
   "source": [
    "criterion = nn.CrossEntropyLoss()\n",
    "\n",
    "output = torch.randn(10, 120).float()\n",
    "target = torch.FloatTensor(10).uniform_(0, 120).long()\n",
    "\n",
    "loss = criterion(output, target)"
   ]
  },
  {
   "cell_type": "code",
   "execution_count": 27,
   "metadata": {},
   "outputs": [
    {
     "data": {
      "text/plain": [
       "tensor([[-1.0900,  0.7638,  0.3156,  ..., -0.4458, -0.8394, -0.3470],\n",
       "        [ 0.3194,  1.6172, -0.1310,  ..., -1.1623, -0.6901,  1.2697],\n",
       "        [ 1.0176,  0.4200, -1.6243,  ...,  0.3499, -0.7054,  1.9038],\n",
       "        ...,\n",
       "        [-0.8537, -0.5236, -0.8722,  ...,  1.8361, -0.9416,  0.4922],\n",
       "        [-1.2941,  0.5065, -0.6403,  ..., -0.1601,  0.6813, -0.2494],\n",
       "        [-1.4759,  0.7388, -0.4881,  ..., -0.9073,  0.0911,  0.1367]])"
      ]
     },
     "execution_count": 27,
     "metadata": {},
     "output_type": "execute_result"
    }
   ],
   "source": [
    "output"
   ]
  },
  {
   "cell_type": "code",
   "execution_count": 28,
   "metadata": {},
   "outputs": [],
   "source": [
    "import torch as th"
   ]
  },
  {
   "cell_type": "code",
   "execution_count": 40,
   "metadata": {},
   "outputs": [
    {
     "data": {
      "text/plain": [
       "tensor(2.2974)"
      ]
     },
     "execution_count": 40,
     "metadata": {},
     "output_type": "execute_result"
    }
   ],
   "source": [
    "preds=  th.tensor([[0.5088, 0.5011, 0.4853, 0.4905, 0.4983, 0.5142, 0.4986, 0.5151, 0.5161,\n",
    "         0.5080]])\n",
    "labels=  th.tensor([[0]])\n",
    "\n",
    "criterion = nn.CrossEntropyLoss()\n",
    "criterion(preds, labels.squeeze(0))"
   ]
  },
  {
   "cell_type": "code",
   "execution_count": 41,
   "metadata": {},
   "outputs": [
    {
     "data": {
      "text/plain": [
       "tensor([[0.5088, 0.5011, 0.4853, 0.4905, 0.4983, 0.5142, 0.4986, 0.5151, 0.5161,\n",
       "         0.5080]])"
      ]
     },
     "execution_count": 41,
     "metadata": {},
     "output_type": "execute_result"
    }
   ],
   "source": [
    "preds"
   ]
  },
  {
   "cell_type": "code",
   "execution_count": 34,
   "metadata": {},
   "outputs": [
    {
     "data": {
      "text/plain": [
       "tensor(0, device='cuda:0')"
      ]
     },
     "execution_count": 34,
     "metadata": {},
     "output_type": "execute_result"
    }
   ],
   "source": [
    "labels.squeeze()"
   ]
  },
  {
   "cell_type": "code",
   "execution_count": 42,
   "metadata": {},
   "outputs": [],
   "source": [
    "preds=  th.tensor([[0.5088, 0.5011, 0.4853, 0.4905, 0.4983, 0.5142, 0.4986, 0.5151, 0.5161,\n",
    "         0.5080]], device='cuda:0')\n",
    "labels=  th.tensor([0], device='cuda:0')"
   ]
  },
  {
   "cell_type": "code",
   "execution_count": 47,
   "metadata": {},
   "outputs": [],
   "source": [
    "labels = th.tensor([[0],\n",
    "        [1],\n",
    "        [0],\n",
    "        [0],\n",
    "        [1],\n",
    "        [1],\n",
    "        [1],\n",
    "        [1],\n",
    "        [0],\n",
    "        [0],\n",
    "        [1],\n",
    "        [0],\n",
    "        [0],\n",
    "        [0],\n",
    "        [0],\n",
    "        [1]], device='cuda:0')\n",
    "preds=  th.tensor([[0.5067, 0.4992, 0.4838, 0.4916, 0.4998, 0.5193, 0.4980, 0.5089, 0.5121,\n",
    "         0.5101],\n",
    "        [0.5065, 0.4966, 0.4871, 0.4878, 0.4982, 0.5177, 0.4985, 0.5131, 0.5160,\n",
    "         0.5074],\n",
    "        [0.5067, 0.5053, 0.4818, 0.4933, 0.4993, 0.5165, 0.4980, 0.5140, 0.5164,\n",
    "         0.5069],\n",
    "        [0.5089, 0.5009, 0.4838, 0.4890, 0.4964, 0.5167, 0.4990, 0.5145, 0.5169,\n",
    "         0.5056],\n",
    "        [0.5079, 0.5040, 0.4855, 0.4908, 0.4983, 0.5116, 0.4986, 0.5148, 0.5196,\n",
    "         0.5104],\n",
    "        [0.5065, 0.5010, 0.4828, 0.4906, 0.4980, 0.5147, 0.4954, 0.5163, 0.5191,\n",
    "         0.5082],\n",
    "        [0.5059, 0.5009, 0.4829, 0.4903, 0.4954, 0.5146, 0.4966, 0.5147, 0.5188,\n",
    "         0.5111],\n",
    "        [0.5087, 0.5004, 0.4822, 0.4951, 0.4989, 0.5187, 0.4976, 0.5125, 0.5165,\n",
    "         0.5066],\n",
    "        [0.5077, 0.5004, 0.4859, 0.4949, 0.4960, 0.5154, 0.4953, 0.5165, 0.5182,\n",
    "         0.5095],\n",
    "        [0.5103, 0.4999, 0.4850, 0.4926, 0.4986, 0.5126, 0.4986, 0.5168, 0.5159,\n",
    "         0.5065],\n",
    "        [0.5083, 0.5005, 0.4840, 0.4893, 0.4992, 0.5101, 0.4978, 0.5125, 0.5192,\n",
    "         0.5101],\n",
    "        [0.5072, 0.5008, 0.4841, 0.4913, 0.5004, 0.5134, 0.4960, 0.5140, 0.5157,\n",
    "         0.5084],\n",
    "        [0.5072, 0.5021, 0.4852, 0.4978, 0.4964, 0.5167, 0.4954, 0.5170, 0.5183,\n",
    "         0.5077],\n",
    "        [0.5076, 0.4990, 0.4841, 0.4892, 0.5013, 0.5170, 0.4994, 0.5081, 0.5154,\n",
    "         0.5069],\n",
    "        [0.5066, 0.5013, 0.4870, 0.4917, 0.4959, 0.5155, 0.5009, 0.5141, 0.5187,\n",
    "         0.5053],\n",
    "        [0.5083, 0.5008, 0.4872, 0.4907, 0.4989, 0.5155, 0.5015, 0.5144, 0.5157,\n",
    "         0.5101]], device='cuda:0')"
   ]
  },
  {
   "cell_type": "code",
   "execution_count": 49,
   "metadata": {},
   "outputs": [
    {
     "data": {
      "text/plain": [
       "tensor([0, 1, 0, 0, 1, 1, 1, 1, 0, 0, 1, 0, 0, 0, 0, 1], device='cuda:0')"
      ]
     },
     "execution_count": 49,
     "metadata": {},
     "output_type": "execute_result"
    }
   ],
   "source": [
    "labels.squeeze(1)"
   ]
  },
  {
   "cell_type": "code",
   "execution_count": 46,
   "metadata": {},
   "outputs": [
    {
     "data": {
      "text/plain": [
       "torch.Size([1, 10])"
      ]
     },
     "execution_count": 46,
     "metadata": {},
     "output_type": "execute_result"
    }
   ],
   "source": [
    "preds.shape"
   ]
  },
  {
   "cell_type": "code",
   "execution_count": 50,
   "metadata": {},
   "outputs": [
    {
     "data": {
      "text/plain": [
       "tensor(2.3016, device='cuda:0')"
      ]
     },
     "execution_count": 50,
     "metadata": {},
     "output_type": "execute_result"
    }
   ],
   "source": [
    "criterion(preds, labels.squeeze(1))"
   ]
  }
 ],
 "metadata": {
  "kernelspec": {
   "display_name": "venv",
   "language": "python",
   "name": "python3"
  },
  "language_info": {
   "codemirror_mode": {
    "name": "ipython",
    "version": 3
   },
   "file_extension": ".py",
   "mimetype": "text/x-python",
   "name": "python",
   "nbconvert_exporter": "python",
   "pygments_lexer": "ipython3",
   "version": "3.8.6"
  },
  "orig_nbformat": 4
 },
 "nbformat": 4,
 "nbformat_minor": 2
}
